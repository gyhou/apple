{
  "nbformat": 4,
  "nbformat_minor": 0,
  "metadata": {
    "colab": {
      "name": "iOS_app_review_API.ipynb",
      "provenance": []
    },
    "kernelspec": {
      "name": "python3",
      "display_name": "Python 3"
    },
    "accelerator": "GPU"
  },
  "cells": [
    {
      "cell_type": "code",
      "metadata": {
        "id": "fNQvAGSXiXjz",
        "colab_type": "code",
        "colab": {}
      },
      "source": [
        "import time\n",
        "import typing\n",
        "import requests\n",
        "\n",
        "\n",
        "def is_error_response(http_response, seconds_to_sleep: float = 1) -> bool:\n",
        "    \"\"\"\n",
        "    Returns False if status_code is 503 (system unavailable) or 200 (success),\n",
        "    otherwise it will return True (failed). This function should be used\n",
        "    after calling the commands requests.post() and requests.get().\n",
        "\n",
        "    :param http_response:\n",
        "        The response object returned from requests.post or requests.get.\n",
        "    :param seconds_to_sleep:\n",
        "        The sleep time used if the status_code is 503. This is used to not\n",
        "        overwhelm the service since it is unavailable.\n",
        "    \"\"\"\n",
        "    if http_response.status_code == 503:\n",
        "        time.sleep(seconds_to_sleep)\n",
        "        return False\n",
        "\n",
        "    return http_response.status_code != 200\n",
        "\n",
        "\n",
        "def get_json(url) -> typing.Union[dict, None]:\n",
        "    \"\"\"\n",
        "    Returns json response if any. Returns None if no json found.\n",
        "\n",
        "    :param url:\n",
        "        The url go get the json from.\n",
        "    \"\"\"\n",
        "    response = requests.get(url)\n",
        "    if is_error_response(response):\n",
        "        return None\n",
        "    json_response = response.json()\n",
        "    return json_response\n",
        "\n",
        "\n",
        "def get_reviews(app_name, app_id, page=1) -> typing.List[dict]:\n",
        "    \"\"\"\n",
        "    --iOS app reviews--\n",
        "    \n",
        "    Returns a list of dictionaries with each dictionary being one review. \n",
        "    Maxed out at 500 reviews from itunes server.\n",
        "    \n",
        "    :param app_id:\n",
        "        The app_id you are searching. \n",
        "    :param page:\n",
        "        The page id to start the loop. Once it reaches the final page + 1, the \n",
        "        app will not return a 'feed' key in the json, thus it will exit with \n",
        "        the current reviews.\n",
        "    \"\"\"\n",
        "    # declare a variable with list of dictionary type\n",
        "    reviews: typing.List[dict] = [{}]\n",
        "\n",
        "    while True:\n",
        "        # requesting json from iOS \n",
        "        url = (f'https://itunes.apple.com/rss/customerreviews/id={app_id}/'\n",
        "               f'page={page}/sortby=mostrecent/json')\n",
        "        \n",
        "        json = get_json(url)\n",
        "\n",
        "        if not json:\n",
        "            return reviews[1:]\n",
        "\n",
        "        data_feed = json.get('feed')\n",
        "\n",
        "        if not data_feed.get(\"entry\"):\n",
        "            return reviews[1:]\n",
        "\n",
        "        reviews += [\n",
        "            {\n",
        "                'app_name': app_name,\n",
        "                'app_version': entry.get('im:version').get('label'),\n",
        "                'label_title': entry.get('title').get('label'),\n",
        "                'review': entry.get('content').get('label'),\n",
        "                'store_rating': entry.get('im:rating').get('label')                \n",
        "            }\n",
        "            for entry in data_feed.get('entry')\n",
        "        ]\n",
        "\n",
        "        page += 1"
      ],
      "execution_count": 0,
      "outputs": []
    },
    {
      "cell_type": "code",
      "metadata": {
        "id": "emhfSmENXcZV",
        "colab_type": "code",
        "colab": {}
      },
      "source": [
        "# List of apps name and ID\n",
        "app_list = [['rv-life-rv-gps-campgrounds', 1275803975], \n",
        "            ['copilot-gps-navigation', 504677517], \n",
        "            ['camp-rv-tents-to-rv-parks', 370820516], \n",
        "            ['smartrvroute', 606236753], \n",
        "            ['rv-parks-campgrounds', 991632449], \n",
        "            ['rv-park-finder', 695969271], \n",
        "            ['campendium-rv-tent-camping', 1191380095]]"
      ],
      "execution_count": 0,
      "outputs": []
    },
    {
      "cell_type": "code",
      "metadata": {
        "id": "DD-k2qRkduJV",
        "colab_type": "code",
        "colab": {}
      },
      "source": [
        "import pandas as pd\n",
        "\n",
        "df_list = []\n",
        "for app_name, app_id in app_list:\n",
        "  app_reviews = get_reviews(app_name, app_id) # get the reviews for specific app\n",
        "  df = pd.DataFrame(app_reviews) # create dataframe with list of dictionaries\n",
        "  df_list.append(df) # add into the list of dataframes\n",
        "  \n",
        "# merge all dataframes together\n",
        "df_all = pd.concat(df_list, ignore_index=True, join='outer', axis=0)"
      ],
      "execution_count": 0,
      "outputs": []
    },
    {
      "cell_type": "code",
      "metadata": {
        "id": "_881KsBMqtCb",
        "colab_type": "code",
        "outputId": "840d3ee0-dab4-470e-9515-5d168f0b6bad",
        "colab": {
          "base_uri": "https://localhost:8080/",
          "height": 212
        }
      },
      "source": [
        "print(df_all.shape)\n",
        "df_all.head()"
      ],
      "execution_count": 0,
      "outputs": [
        {
          "output_type": "stream",
          "text": [
            "(1962, 5)\n"
          ],
          "name": "stdout"
        },
        {
          "output_type": "execute_result",
          "data": {
            "text/html": [
              "<div>\n",
              "<style scoped>\n",
              "    .dataframe tbody tr th:only-of-type {\n",
              "        vertical-align: middle;\n",
              "    }\n",
              "\n",
              "    .dataframe tbody tr th {\n",
              "        vertical-align: top;\n",
              "    }\n",
              "\n",
              "    .dataframe thead th {\n",
              "        text-align: right;\n",
              "    }\n",
              "</style>\n",
              "<table border=\"1\" class=\"dataframe\">\n",
              "  <thead>\n",
              "    <tr style=\"text-align: right;\">\n",
              "      <th></th>\n",
              "      <th>app_name</th>\n",
              "      <th>app_version</th>\n",
              "      <th>label_title</th>\n",
              "      <th>review</th>\n",
              "      <th>store_rating</th>\n",
              "    </tr>\n",
              "  </thead>\n",
              "  <tbody>\n",
              "    <tr>\n",
              "      <th>0</th>\n",
              "      <td>rv-life-rv-gps-campgrounds</td>\n",
              "      <td>2.2.0</td>\n",
              "      <td>Does nothing</td>\n",
              "      <td>Will not do anything without paid subscription.</td>\n",
              "      <td>1</td>\n",
              "    </tr>\n",
              "    <tr>\n",
              "      <th>1</th>\n",
              "      <td>rv-life-rv-gps-campgrounds</td>\n",
              "      <td>2.2.0</td>\n",
              "      <td>Don’t receive confirmation email</td>\n",
              "      <td>Tried several times to obtain a verification e...</td>\n",
              "      <td>1</td>\n",
              "    </tr>\n",
              "    <tr>\n",
              "      <th>2</th>\n",
              "      <td>rv-life-rv-gps-campgrounds</td>\n",
              "      <td>2.1.5</td>\n",
              "      <td>This is not ready for release!!! Avoid!!!!</td>\n",
              "      <td>To say we are disappointed is an understatemen...</td>\n",
              "      <td>1</td>\n",
              "    </tr>\n",
              "    <tr>\n",
              "      <th>3</th>\n",
              "      <td>rv-life-rv-gps-campgrounds</td>\n",
              "      <td>2.1.5</td>\n",
              "      <td>GPS directions bad</td>\n",
              "      <td>First time using RV Life, it directed us to a ...</td>\n",
              "      <td>1</td>\n",
              "    </tr>\n",
              "    <tr>\n",
              "      <th>4</th>\n",
              "      <td>rv-life-rv-gps-campgrounds</td>\n",
              "      <td>2.1.2</td>\n",
              "      <td>Outstanding ! Essential for campers!</td>\n",
              "      <td>This is the best, and only app you’ll need to ...</td>\n",
              "      <td>5</td>\n",
              "    </tr>\n",
              "  </tbody>\n",
              "</table>\n",
              "</div>"
            ],
            "text/plain": [
              "                     app_name  ... store_rating\n",
              "0  rv-life-rv-gps-campgrounds  ...            1\n",
              "1  rv-life-rv-gps-campgrounds  ...            1\n",
              "2  rv-life-rv-gps-campgrounds  ...            1\n",
              "3  rv-life-rv-gps-campgrounds  ...            1\n",
              "4  rv-life-rv-gps-campgrounds  ...            5\n",
              "\n",
              "[5 rows x 5 columns]"
            ]
          },
          "metadata": {
            "tags": []
          },
          "execution_count": 37
        }
      ]
    },
    {
      "cell_type": "code",
      "metadata": {
        "id": "HClABtmuqsmE",
        "colab_type": "code",
        "colab": {}
      },
      "source": [
        "# create dataframe into csv\n",
        "df_all.to_csv(\"rv_ios_app_reviews.csv\", index=False)"
      ],
      "execution_count": 0,
      "outputs": []
    },
    {
      "cell_type": "code",
      "metadata": {
        "id": "BC2RFHmKQGrk",
        "colab_type": "code",
        "outputId": "9be57b87-52db-403c-d3c3-2869e16bc234",
        "colab": {
          "base_uri": "https://localhost:8080/",
          "height": 151
        }
      },
      "source": [
        "import pandas as pd\n",
        "df_all = pd.read_csv('rv_ios_app_reviews.csv')\n",
        "df_all['app_name'].value_counts()"
      ],
      "execution_count": 0,
      "outputs": [
        {
          "output_type": "execute_result",
          "data": {
            "text/plain": [
              "copilot-gps-navigation        500\n",
              "rv-parks-campgrounds          500\n",
              "camp-rv-tents-to-rv-parks     500\n",
              "rv-park-finder                252\n",
              "campendium-rv-tent-camping    116\n",
              "rv-life-rv-gps-campgrounds     75\n",
              "smartrvroute                   19\n",
              "Name: app_name, dtype: int64"
            ]
          },
          "metadata": {
            "tags": []
          },
          "execution_count": 1
        }
      ]
    }
  ]
}